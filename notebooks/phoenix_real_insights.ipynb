{
  "cells": [
    {
      "cell_type": "markdown",
      "metadata": {},
      "source": [
        "# Phoenix Civic Insights \u2013 Notebook\n",
        "Use this notebook for quick EDA once the SQLite DB is built."
      ]
    },
    {
      "cell_type": "code",
      "metadata": {},
      "execution_count": null,
      "outputs": [],
      "source": [
        "from pathlib import Path\n",
        "import sqlite3, pandas as pd\n",
        "DB = Path('outputs/phoenix_civic.db')\n",
        "con = sqlite3.connect(DB)\n",
        "pd.read_sql_query(\"SELECT name FROM sqlite_master WHERE type='table'\", con)"
      ]
    }
  ],
  "metadata": {
    "kernelspec": {
      "display_name": "Python 3",
      "language": "python",
      "name": "python3"
    }
  },
  "nbformat": 4,
  "nbformat_minor": 5
}